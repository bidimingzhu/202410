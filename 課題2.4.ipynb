{
 "cells": [
  {
   "cell_type": "code",
   "execution_count": null,
   "id": "66e27ee5-4cbe-44a0-9c89-ff70fd8a1f8a",
   "metadata": {
    "tags": []
   },
   "outputs": [
    {
     "name": "stdin",
     "output_type": "stream",
     "text": [
      " 1.0\n",
      " 1.0\n"
     ]
    }
   ],
   "source": [
    "import math\n",
    "a = float(input())\n",
    "b = float(input())\n",
    "c = float(input())\n",
    "d = float(input())\n",
    "s = a ** 2 + b ** 2 - c ** 2 - d ** 2\n",
    "t = a * b + c * d\n",
    "k = s / (2 * t)\n",
    "print(math.acos(k) * (180 / math.pi))"
   ]
  },
  {
   "cell_type": "code",
   "execution_count": null,
   "id": "5f9b801a-bbd1-446e-a77a-e65eb1be91f3",
   "metadata": {},
   "outputs": [],
   "source": []
  }
 ],
 "metadata": {
  "kernelspec": {
   "display_name": "Python 3 (ipykernel)",
   "language": "python",
   "name": "python3"
  },
  "language_info": {
   "codemirror_mode": {
    "name": "ipython",
    "version": 3
   },
   "file_extension": ".py",
   "mimetype": "text/x-python",
   "name": "python",
   "nbconvert_exporter": "python",
   "pygments_lexer": "ipython3",
   "version": "3.8.18"
  }
 },
 "nbformat": 4,
 "nbformat_minor": 5
}
